{
 "cells": [
  {
   "cell_type": "markdown",
   "metadata": {},
   "source": [
    "## Imports"
   ]
  },
  {
   "cell_type": "code",
   "execution_count": 15,
   "metadata": {
    "collapsed": false
   },
   "outputs": [],
   "source": [
    "%matplotlib qt\n",
    "import matplotlib as cm\n",
    "import matplotlib.pylab as plt\n",
    "from mpl_toolkits.mplot3d import Axes3D\n",
    "import numpy as np\n",
    "import AOread\n",
    "import importlib"
   ]
  },
  {
   "cell_type": "code",
   "execution_count": 22,
   "metadata": {
    "collapsed": false
   },
   "outputs": [
    {
     "data": {
      "text/plain": [
       "<module 'AOread' from '/home/george/Dropbox/cpp/myfinance/python/AOread.py'>"
      ]
     },
     "execution_count": 22,
     "metadata": {},
     "output_type": "execute_result"
    }
   ],
   "source": [
    "importlib.reload(AOread)"
   ]
  },
  {
   "cell_type": "markdown",
   "metadata": {},
   "source": [
    "## Parse Option Prices from File"
   ]
  },
  {
   "cell_type": "code",
   "execution_count": 23,
   "metadata": {
    "collapsed": true
   },
   "outputs": [],
   "source": [
    "filename=\"test\""
   ]
  },
  {
   "cell_type": "code",
   "execution_count": 24,
   "metadata": {
    "collapsed": false
   },
   "outputs": [
    {
     "name": "stdout",
     "output_type": "stream",
     "text": [
      "{'basedepth': 20, 'up': 1.0106, 'basefactor': 20, 'S0min': 100, 'depth': 100, 'spd': 1, 'options': 1}\n"
     ]
    }
   ],
   "source": [
    "metadata, data = AOread.parseAOfile(filename)\n",
    "print(metadata)"
   ]
  },
  {
   "cell_type": "code",
   "execution_count": 25,
   "metadata": {
    "collapsed": true
   },
   "outputs": [],
   "source": [
    "time,spots = AOread.timespots(metadata)\n",
    "noofoptions = metadata['options']"
   ]
  },
  {
   "cell_type": "code",
   "execution_count": 28,
   "metadata": {
    "collapsed": false
   },
   "outputs": [
    {
     "name": "stdout",
     "output_type": "stream",
     "text": [
      "2222 4949\n"
     ]
    }
   ],
   "source": [
    "firstoption = data[:,0,0]\n",
    "firstoptionb = data[:,0,1]\n",
    "firstoptionITM = firstoption[firstoptionb==1]\n",
    "firstoptionOTM = firstoption[firstoptionb==0]\n",
    "print(len(firstoptionITM),len(firstoptionOTM))"
   ]
  },
  {
   "cell_type": "code",
   "execution_count": 29,
   "metadata": {
    "collapsed": false
   },
   "outputs": [],
   "source": [
    "logspots=np.log(spots)"
   ]
  },
  {
   "cell_type": "code",
   "execution_count": 30,
   "metadata": {
    "collapsed": false
   },
   "outputs": [],
   "source": [
    "timeITM=time[firstoptionb==1]\n",
    "timeOTM=time[firstoptionb==0]\n",
    "spotsITM=spots[firstoptionb==1]\n",
    "spotsOTM=spots[firstoptionb==0]"
   ]
  },
  {
   "cell_type": "markdown",
   "metadata": {
    "collapsed": false
   },
   "source": [
    "## Graphs"
   ]
  },
  {
   "cell_type": "code",
   "execution_count": 61,
   "metadata": {
    "collapsed": false
   },
   "outputs": [
    {
     "data": {
      "text/plain": [
       "<matplotlib.text.Text at 0x7f1f9df49828>"
      ]
     },
     "execution_count": 61,
     "metadata": {},
     "output_type": "execute_result"
    }
   ],
   "source": [
    "cmRed=plt.get_cmap('Reds')\n",
    "cmBlue=plt.get_cmap('Blues')\n",
    "fig=plt.figure(figsize=(12,6))\n",
    "ax=plt.subplot(121)\n",
    "#fig=plt.figure()#,figsize=(15,8))\n",
    "#fig.add_subplot(121)\n",
    "#ax=fig.gca()\n",
    "ax.autoscale(tight=False)\n",
    "scat1=ax.scatter(timeITM,spotsITM,marker='o',c=firstoptionITM,cmap=cmRed, edgecolors='none')\n",
    "scat2=ax.scatter(timeOTM,spotsOTM,marker='o',c=firstoptionOTM,cmap=cmBlue, edgecolors='none')\n",
    "ax.set_yscale('log')\n",
    "ax.set_xlabel('time')\n",
    "ax.set_ylabel('spot')\n",
    "ax.set_title('American Put Option heatmap')\n",
    "fig.colorbar(scat1)\n",
    "fig.colorbar(scat2)\n",
    "\n",
    "ax=plt.subplot(1,2,2,projection='3d')\n",
    "surf = ax.plot_trisurf(time,np.log(spots),(firstoption),cmap=cmBlue, antialiased=False,linewidth=0)\n",
    "#ax.set_yscale('log')\n",
    "#ax.zaxis.set_major_locator(LinearLocator(10))\n",
    "#ax.zaxis.set_major_formatter(FormatStrFormatter('%.02f'))\n",
    "\n",
    "#fig.colorbar(surf, shrink=0.5, aspect=5)\n",
    "ax.set_xlabel('time')\n",
    "ax.set_ylabel('logspot')\n",
    "ax.set_zlabel('price')\n",
    "ax.set_title('American Put Price Surface')\n",
    "#plt.show()\n"
   ]
  },
  {
   "cell_type": "code",
   "execution_count": 38,
   "metadata": {
    "collapsed": false
   },
   "outputs": [
    {
     "data": {
      "text/plain": [
       "<matplotlib.text.Text at 0x7f1fa26e9278>"
      ]
     },
     "execution_count": 38,
     "metadata": {},
     "output_type": "execute_result"
    }
   ],
   "source": []
  }
 ],
 "metadata": {
  "kernelspec": {
   "display_name": "Python 3",
   "language": "python",
   "name": "python3"
  },
  "language_info": {
   "codemirror_mode": {
    "name": "ipython",
    "version": 3
   },
   "file_extension": ".py",
   "mimetype": "text/x-python",
   "name": "python",
   "nbconvert_exporter": "python",
   "pygments_lexer": "ipython3",
   "version": "3.5.2"
  }
 },
 "nbformat": 4,
 "nbformat_minor": 0
}
