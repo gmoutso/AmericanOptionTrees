{
 "cells": [
  {
   "cell_type": "markdown",
   "metadata": {},
   "source": [
    "## Imports"
   ]
  },
  {
   "cell_type": "code",
   "execution_count": 1,
   "metadata": {
    "collapsed": false
   },
   "outputs": [],
   "source": [
    "%matplotlib qt\n",
    "import matplotlib.pylab as plt\n",
    "from mpl_toolkits.mplot3d import Axes3D\n",
    "import numpy as np\n",
    "import AOread"
   ]
  },
  {
   "cell_type": "markdown",
   "metadata": {},
   "source": [
    "## Parse From File"
   ]
  },
  {
   "cell_type": "code",
   "execution_count": 42,
   "metadata": {
    "collapsed": true
   },
   "outputs": [],
   "source": [
    "filename=\"test\""
   ]
  },
  {
   "cell_type": "code",
   "execution_count": 43,
   "metadata": {
    "collapsed": false
   },
   "outputs": [
    {
     "name": "stdout",
     "output_type": "stream",
     "text": [
      "100 100 20 20 1 1.0106 1\n"
     ]
    }
   ],
   "source": [
    "array = []\n",
    "S0min,depth,basedepth,basefactor,spd,up,options = AOread.parseAOfile(filename,array)\n",
    "optionprices = np.array(array)\n",
    "print(S0min,depth,basedepth,basefactor,spd,up,options)"
   ]
  },
  {
   "cell_type": "code",
   "execution_count": 44,
   "metadata": {
    "collapsed": false
   },
   "outputs": [],
   "source": [
    "firstoption = optionprices[:,0,0]\n",
    "firstoptionb = optionprices[:,0,1]"
   ]
  },
  {
   "cell_type": "code",
   "execution_count": 45,
   "metadata": {
    "collapsed": false
   },
   "outputs": [
    {
     "name": "stdout",
     "output_type": "stream",
     "text": [
      "2222 4949\n"
     ]
    }
   ],
   "source": [
    "firstoptionITM = firstoption[firstoptionb==1]\n",
    "firstoptionOTM = firstoption[firstoptionb==0]\n",
    "print(len(firstoptionITM),len(firstoptionOTM))"
   ]
  },
  {
   "cell_type": "markdown",
   "metadata": {},
   "source": [
    "## Preparing arrays"
   ]
  },
  {
   "cell_type": "code",
   "execution_count": 46,
   "metadata": {
    "collapsed": true
   },
   "outputs": [],
   "source": [
    "time=np.array([])\n",
    "for i in range(depth+1):\n",
    "    list=np.full(i+basedepth+1,i/spd,dtype=np.float)\n",
    "    time=np.concatenate((time,list))"
   ]
  },
  {
   "cell_type": "code",
   "execution_count": 47,
   "metadata": {
    "collapsed": true
   },
   "outputs": [],
   "source": [
    "spots=np.array([])\n",
    "upperspot = S0min*up**basedepth\n",
    "for i in range(depth+1):\n",
    "    upperspot *= up**i\n",
    "    list = [upperspot/(up**(2*j)) for j in range(basedepth+i+1)]\n",
    "    spots=np.concatenate((spots,list))"
   ]
  },
  {
   "cell_type": "markdown",
   "metadata": {
    "collapsed": false
   },
   "source": [
    "## Graphs"
   ]
  },
  {
   "cell_type": "code",
   "execution_count": 48,
   "metadata": {
    "collapsed": false
   },
   "outputs": [
    {
     "data": {
      "text/plain": [
       "((7171,), (7171,), (7171,))"
      ]
     },
     "execution_count": 48,
     "metadata": {},
     "output_type": "execute_result"
    }
   ],
   "source": [
    "time.shape,spots.shape,firstoption.shape"
   ]
  },
  {
   "cell_type": "code",
   "execution_count": 49,
   "metadata": {
    "collapsed": false
   },
   "outputs": [],
   "source": [
    "logspots=np.log(spots)"
   ]
  },
  {
   "cell_type": "code",
   "execution_count": 52,
   "metadata": {
    "collapsed": false
   },
   "outputs": [],
   "source": [
    "fig=plt.figure()\n",
    "ax = fig.gca(projection='3d')\n",
    "ax.set_xlabel('time')\n",
    "ax.set_ylabel('log spot')\n",
    "ax.set_zlabel('price')\n",
    "surf=ax.scatter(time,logspots,firstoption)\n",
    "#, rstride=1, cstride=1, cmap=cm.coolwarm, linewidth=0, antialiased=False)"
   ]
  },
  {
   "cell_type": "code",
   "execution_count": 56,
   "metadata": {
    "collapsed": false
   },
   "outputs": [],
   "source": [
    "timeITM=time[firstoptionb==1]\n",
    "priceITM=firstoption[firstoptionb==1]\n",
    "logspotITM=logspots[firstoptionb==1]\n",
    "timeOTM=time[firstoptionb==0]\n",
    "priceOTM=firstoption[firstoptionb==0]\n",
    "logspotOTM=logspots[firstoptionb==0]"
   ]
  }
 ],
 "metadata": {
  "kernelspec": {
   "display_name": "Python 3",
   "language": "python",
   "name": "python3"
  },
  "language_info": {
   "codemirror_mode": {
    "name": "ipython",
    "version": 3
   },
   "file_extension": ".py",
   "mimetype": "text/x-python",
   "name": "python",
   "nbconvert_exporter": "python",
   "pygments_lexer": "ipython3",
   "version": "3.5.2"
  }
 },
 "nbformat": 4,
 "nbformat_minor": 0
}
