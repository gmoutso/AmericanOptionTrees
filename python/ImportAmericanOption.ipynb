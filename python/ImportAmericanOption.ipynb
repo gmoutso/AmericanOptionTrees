{
 "cells": [
  {
   "cell_type": "markdown",
   "metadata": {},
   "source": [
    "## Imports"
   ]
  },
  {
   "cell_type": "code",
   "execution_count": 170,
   "metadata": {
    "collapsed": false
   },
   "outputs": [],
   "source": [
    "%matplotlib qt\n",
    "import matplotlib\n",
    "import matplotlib.pylab as plt\n",
    "from mpl_toolkits.mplot3d import Axes3D\n",
    "import numpy as np\n",
    "import AOread"
   ]
  },
  {
   "cell_type": "markdown",
   "metadata": {},
   "source": [
    "## Parse Option Prices from File"
   ]
  },
  {
   "cell_type": "code",
   "execution_count": 2,
   "metadata": {
    "collapsed": true
   },
   "outputs": [],
   "source": [
    "filename=\"test\""
   ]
  },
  {
   "cell_type": "code",
   "execution_count": 3,
   "metadata": {
    "collapsed": false
   },
   "outputs": [
    {
     "name": "stdout",
     "output_type": "stream",
     "text": [
      "100 100 20 20 1 1.0106 1\n"
     ]
    }
   ],
   "source": [
    "array = []\n",
    "S0min,depth,basedepth,basefactor,spd,up,options = AOread.parseAOfile(filename,array)\n",
    "optionprices = np.array(array)\n",
    "print(S0min,depth,basedepth,basefactor,spd,up,options)"
   ]
  },
  {
   "cell_type": "code",
   "execution_count": 4,
   "metadata": {
    "collapsed": false
   },
   "outputs": [],
   "source": [
    "firstoption = optionprices[:,0,0]\n",
    "firstoptionb = optionprices[:,0,1]"
   ]
  },
  {
   "cell_type": "code",
   "execution_count": 5,
   "metadata": {
    "collapsed": false
   },
   "outputs": [
    {
     "name": "stdout",
     "output_type": "stream",
     "text": [
      "2222 4949\n"
     ]
    }
   ],
   "source": [
    "firstoptionITM = firstoption[firstoptionb==1]\n",
    "firstoptionOTM = firstoption[firstoptionb==0]\n",
    "print(len(firstoptionITM),len(firstoptionOTM))"
   ]
  },
  {
   "cell_type": "markdown",
   "metadata": {},
   "source": [
    "## Preparing time/spot arrays"
   ]
  },
  {
   "cell_type": "code",
   "execution_count": 6,
   "metadata": {
    "collapsed": true
   },
   "outputs": [],
   "source": [
    "time=np.array([])\n",
    "for i in range(depth+1):\n",
    "    list=np.full(i+basedepth+1,i/spd,dtype=np.float)\n",
    "    time=np.concatenate((time,list))"
   ]
  },
  {
   "cell_type": "code",
   "execution_count": 80,
   "metadata": {
    "collapsed": true
   },
   "outputs": [],
   "source": [
    "spots=np.array([])\n",
    "upperspot = S0min*up**basedepth\n",
    "for i in range(depth+1):\n",
    "    list = [upperspot/(up**(2*j)) for j in range(basedepth+i+1)]\n",
    "    spots=np.concatenate((spots,list))\n",
    "    upperspot *= up"
   ]
  },
  {
   "cell_type": "code",
   "execution_count": 83,
   "metadata": {
    "collapsed": true
   },
   "outputs": [],
   "source": [
    "timeITM=time[firstoptionb==1]\n",
    "timeOTM=time[firstoptionb==0]\n",
    "spotsITM=spots[firstoptionb==1]\n",
    "spotsOTM=spots[firstoptionb==0]"
   ]
  },
  {
   "cell_type": "markdown",
   "metadata": {
    "collapsed": false
   },
   "source": [
    "## Graphs"
   ]
  },
  {
   "cell_type": "code",
   "execution_count": 186,
   "metadata": {
    "collapsed": false
   },
   "outputs": [
    {
     "data": {
      "text/plain": [
       "<matplotlib.colorbar.Colorbar at 0x7ffa7ee25358>"
      ]
     },
     "execution_count": 186,
     "metadata": {},
     "output_type": "execute_result"
    }
   ],
   "source": [
    "cmRed=plt.get_cmap('Reds')\n",
    "cmBlue=plt.get_cmap('Blues')\n",
    "fig=plt.figure(num=1)#,figsize=(15,8))\n",
    "ax=fig.gca()\n",
    "ax.autoscale(tight=False)\n",
    "scat1=ax.scatter(timeITM,spotsITM,marker='o',c=firstoptionITM,cmap=cmRed, edgecolors='none')\n",
    "scat2=ax.scatter(timeOTM,spotsOTM,marker='o',c=firstoptionOTM,cmap=cmBlue, edgecolors='none')\n",
    "ax.set_yscale('log')\n",
    "ax.set_xlabel('time')\n",
    "ax.set_ylabel('spot')\n",
    "ax.set_title('American Call Option heatmap')\n",
    "fig.colorbar(scat1)\n",
    "fig.colorbar(scat2)"
   ]
  }
 ],
 "metadata": {
  "kernelspec": {
   "display_name": "Python 3",
   "language": "python",
   "name": "python3"
  },
  "language_info": {
   "codemirror_mode": {
    "name": "ipython",
    "version": 3
   },
   "file_extension": ".py",
   "mimetype": "text/x-python",
   "name": "python",
   "nbconvert_exporter": "python",
   "pygments_lexer": "ipython3",
   "version": "3.5.2"
  }
 },
 "nbformat": 4,
 "nbformat_minor": 0
}
